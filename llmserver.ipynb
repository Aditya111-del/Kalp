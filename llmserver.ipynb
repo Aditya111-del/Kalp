{
 "cells": [
  {
   "cell_type": "code",
   "execution_count": null,
   "metadata": {
    "vscode": {
     "languageId": "plaintext"
    }
   },
   "outputs": [],
   "source": [
    "!sudo apt install aria2 -y \n",
    "\n",
    "!curl -fsSL https://ollama.com/install.sh | sh"
   ]
  },
  {
   "cell_type": "code",
   "execution_count": null,
   "metadata": {
    "vscode": {
     "languageId": "plaintext"
    }
   },
   "outputs": [],
   "source": [
    "!ollama --version"
   ]
  },
  {
   "cell_type": "code",
   "execution_count": null,
   "metadata": {
    "vscode": {
     "languageId": "plaintext"
    }
   },
   "outputs": [],
   "source": [
    "!pip install langchain ollama pymongo langchain_google_genai clipboard passlib langchain-community streamlit st_pages\n",
    "\n",
    "!pip install pyngrok\n",
    "\n",
    "!pip install -U langchain-community\n",
    "\n",
    "!ngrok config add-authtoken 1bbnw8MCQgwGx2DlIPBPBou6kJh_6hGxLYNqVaKSGtBD9xxQQ\n"
   ]
  },
  {
   "cell_type": "code",
   "execution_count": null,
   "metadata": {
    "vscode": {
     "languageId": "plaintext"
    }
   },
   "outputs": [],
   "source": [
    "import os \n",
    "os.system(r'nohup ngrok http --url=mighty-monarch-refined.ngrok-free.app 11434 --host-header=\"localhost:11434\" &')\n"
   ]
  },
  {
   "cell_type": "code",
   "execution_count": null,
   "metadata": {
    "vscode": {
     "languageId": "plaintext"
    }
   },
   "outputs": [],
   "source": [
    "import os\n",
    "command = \"nohup env OLLAMA_NUM_PARALLEL=4 env OLLAMA_MAX_LOADED_MODELS=4 ollama serve &\"\n",
    "os.system(command)"
   ]
  },
  {
   "cell_type": "code",
   "execution_count": null,
   "metadata": {
    "vscode": {
     "languageId": "plaintext"
    }
   },
   "outputs": [],
   "source": [
    "import time\n",
    "time.sleep(3)"
   ]
  }
 ],
 "metadata": {
  "language_info": {
   "name": "python"
  }
 },
 "nbformat": 4,
 "nbformat_minor": 2
}
